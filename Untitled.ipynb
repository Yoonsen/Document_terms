{
 "cells": [
  {
   "cell_type": "code",
   "execution_count": 1,
   "id": "9c223816-74e2-440c-882d-d3598432d837",
   "metadata": {},
   "outputs": [],
   "source": [
    "words = \"han, hun\" \n",
    "words = [w.strip() for w in words.split(',')]"
   ]
  },
  {
   "cell_type": "code",
   "execution_count": 2,
   "id": "0a6dd856-c750-491d-9c47-c5227377f487",
   "metadata": {},
   "outputs": [
    {
     "data": {
      "text/plain": [
       "['han', 'hun']"
      ]
     },
     "execution_count": 2,
     "metadata": {},
     "output_type": "execute_result"
    }
   ],
   "source": [
    "words"
   ]
  },
  {
   "cell_type": "code",
   "execution_count": 3,
   "id": "551659e7-035f-47de-a0c0-1f900e115cbc",
   "metadata": {},
   "outputs": [],
   "source": [
    "import pandas as pd"
   ]
  },
  {
   "cell_type": "code",
   "execution_count": null,
   "id": "7d53e320-7552-4af2-ab64-e2efd292cc36",
   "metadata": {},
   "outputs": [],
   "source": [
    "df = pd.read_excel(\"\")"
   ]
  }
 ],
 "metadata": {
  "kernelspec": {
   "display_name": "Python 3 (ipykernel)",
   "language": "python",
   "name": "python3"
  },
  "language_info": {
   "codemirror_mode": {
    "name": "ipython",
    "version": 3
   },
   "file_extension": ".py",
   "mimetype": "text/x-python",
   "name": "python",
   "nbconvert_exporter": "python",
   "pygments_lexer": "ipython3",
   "version": "3.9.13"
  }
 },
 "nbformat": 4,
 "nbformat_minor": 5
}
